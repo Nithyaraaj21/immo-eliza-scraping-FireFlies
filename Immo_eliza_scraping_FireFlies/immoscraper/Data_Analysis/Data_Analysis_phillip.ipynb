{
 "cells": [
  {
   "cell_type": "markdown",
   "metadata": {},
   "source": [
    "# Data Cleaning"
   ]
  },
  {
   "cell_type": "code",
   "execution_count": null,
   "metadata": {},
   "outputs": [],
   "source": [
    "import pandas as pd\n",
    "import os\n",
    "\n",
    "# Load the data from the correct directory\n",
    "os.chdir(r\"C:\\Users\\phili\\Projects\\immo-eliza-scraping-FireFlies\\Data\\Raw\") # raw strings for syntax / input box for external user?\n",
    "data = pd.read_csv(\"immoweb_raw_vf.csv\")\n",
    "\n",
    "# No blank spaces using strip() for strings data only\n",
    "types = data.dtypes\n",
    "for col in data.columns:\n",
    "    if types[col] == 'string': # Apply str.strip() only to string columns\n",
    "        data[col] = data[col].str.strip()\n",
    "\n",
    "# Fill missing values with \"None\"\n",
    "data = data.fillna(\"None\")\n",
    "\n",
    "# Filter out rows where the 'Price' column contains 'None' (2.744)\n",
    "data = data[data['Price'] != 'None']\n",
    "data = data[data['Habitable_Surface'] != 'None']\n",
    "\n",
    "# Filter out the none existing postal code\n",
    "data = data.loc[data['Postal_Code'] < 10000]\n",
    "\n",
    "# Remove duplicate rows based on specified columns\n",
    "data = data.drop_duplicates(subset=data.columns[1:], keep='first')\n",
    "\n",
    "# Save the cleaned dataset in the correspondent directory\n",
    "os.chdir(r\"C:\\Users\\phili\\Projects\\immo-eliza-scraping-FireFlies\\Data\\Clean\")\n",
    "data.to_csv(\"immoweb_clean.csv\", index=False)"
   ]
  },
  {
   "cell_type": "markdown",
   "metadata": {},
   "source": [
    "# Data Analysis\n"
   ]
  },
  {
   "cell_type": "markdown",
   "metadata": {},
   "source": [
    "## Conversion"
   ]
  },
  {
   "cell_type": "code",
   "execution_count": null,
   "metadata": {},
   "outputs": [],
   "source": [
    "columns_to_convert = ['Price', 'Construction_Year', 'Bedroom_Count', 'Terrace_Surface','Garden_Surface', 'Land_Surface', 'Facade_Count']\n",
    "\n",
    "# Convert specified columns to numeric, coercing errors to NaN\n",
    "data[columns_to_convert] = data[columns_to_convert].apply(pd.to_numeric, errors='coerce')\n",
    "\n",
    "placeholder_value = 0  \n",
    "data['Facade_Count'] = data['Facade_Count'].fillna(placeholder_value)\n",
    "\n",
    "# Convert columns to integer or float as needed\n",
    "data['Construction_Year'] = data['Construction_Year'].astype(float)\n",
    "data['Bedroom_Count'] = data['Bedroom_Count'].astype(int)\n",
    "data['Postal_Code'] = data['Postal_Code'].astype(int)\n",
    "\n",
    "# Information about the dataset\n",
    "print(data.info())"
   ]
  },
  {
   "cell_type": "markdown",
   "metadata": {},
   "source": [
    "## Add new columns"
   ]
  },
  {
   "cell_type": "code",
   "execution_count": 34,
   "metadata": {},
   "outputs": [
    {
     "data": {
      "text/plain": [
       "0        Value-driven investment\n",
       "2           Growth opportunities\n",
       "3        Value-driven investment\n",
       "4        Value-driven investment\n",
       "5           Growth opportunities\n",
       "                  ...           \n",
       "59620       Growth opportunities\n",
       "59621       Growth opportunities\n",
       "59622       Growth opportunities\n",
       "59623       Growth opportunities\n",
       "59624       Growth opportunities\n",
       "Name: Price Category, Length: 49680, dtype: category\n",
       "Categories (4, object): ['Value-driven investment' < 'Growth opportunities' < 'Established neighborhoods' < 'Premium properties']"
      ]
     },
     "execution_count": 34,
     "metadata": {},
     "output_type": "execute_result"
    }
   ],
   "source": [
    "def assign_region(postal_code):\n",
    "  \"\"\"Assigns region based on the postal code digits.\"\"\"\n",
    "  if postal_code in range(1000, 1210):\n",
    "    return 'Brussels'\n",
    "  elif postal_code in range(1500, 1983) or postal_code // 1000 in [2, 3, 8, 9]:\n",
    "    return 'Flanders'\n",
    "  else:\n",
    "    return 'Wallonia'\n",
    "# Apply the region assignment function\n",
    "data['Region'] = data['Postal_Code'].apply(assign_region)\n",
    "\n",
    "# Creating subsets from price per m2\n",
    "data['Price per m2'] = data['Price'] / data['Habitable_Surface']  \n",
    "\n",
    "# Filter out rows that are too expensive\n",
    "data = data[data['Price per m2'] < 40000]\n",
    "\n",
    "#Create new categories according to price per m2\n",
    "data['Price Category'] = pd.cut(\n",
    "    data['Price per m2'],\n",
    "    bins=[0, 2500, 5000, 10000, float(\"inf\")],  # Price range boundaries, float(\"inf\") represents infinity\n",
    "    labels=[\"Value-driven investment\", \"Growth opportunities\", \"Established neighborhoods\", \"Premium properties\"],\n",
    "    right=True  # Include upper bound in each interval\n",
    ")\n",
    "\n",
    "data['Price Category']"
   ]
  },
  {
   "cell_type": "markdown",
   "metadata": {},
   "source": [
    "## Visualization"
   ]
  },
  {
   "cell_type": "code",
   "execution_count": null,
   "metadata": {},
   "outputs": [],
   "source": [
    "import matplotlib.pyplot as plt\n",
    "import matplotlib.ticker as tck\n",
    "import seaborn as sns\n",
    "\n",
    "# Créer un tracé\n",
    "sns.relplot(\n",
    "  data=data,\n",
    "  x=\"Price\", y=\"Postal_Code\", col=\"Type\",\n",
    "  hue=\"Subtype\", size=\"Subtype\"\n",
    ")\n",
    "\n",
    "# Formater les étiquettes de l'axe x (optionnel)\n",
    "plt.gca().xaxis.set_major_formatter(tck.FuncFormatter(\n",
    "  lambda x, pos: f\"{x / 1000000:.1f}M\"\n",
    "))\n",
    "\n",
    "# Afficher le tracé\n",
    "plt.show()\n",
    "\n",
    "# # Example: Boxplot to visualize the distribution of 'Price' for different 'Type' of properties\n",
    "# plt.figure(figsize=(10, 6))\n",
    "# sns.boxplot(x='Type', y='Price', data=data)\n",
    "# plt.xticks(rotation=45)\n",
    "# plt.show()"
   ]
  },
  {
   "cell_type": "code",
   "execution_count": null,
   "metadata": {},
   "outputs": [],
   "source": [
    "import pandas as pd\n",
    "import seaborn as sns\n",
    "import matplotlib.pyplot as plt\n",
    "\n",
    "# Assuming your DataFrame has columns 'price_€_m2', 'investment_type', and 'region'\n",
    "sns.histplot(\n",
    "    data=data,\n",
    "    x=\"Price per m2\",\n",
    "    y=\"Region\",\n",
    "    hue=\"Price Category\",\n",
    "    kde=True,  # Add density curves for smoother representation\n",
    "    common_bins=True,  # Use consistent bins for comparison\n",
    ")\n",
    "plt.xticks(rotation=90)\n",
    "\n",
    "# Add a title and axis labels\n",
    "plt.title(\"Price Distribution by Investment Type and Region (Combined)\")\n",
    "plt.xlabel(\"Price (€/m²)\")\n",
    "\n",
    "plt.subplots_adjust(bottom=0.2)  # Adjust layout for better visibility\n",
    "\n",
    "plt.show()"
   ]
  },
  {
   "cell_type": "code",
   "execution_count": null,
   "metadata": {},
   "outputs": [],
   "source": [
    "import pandas as pd\n",
    "import seaborn as sns\n",
    "import matplotlib.pyplot as plt\n",
    "\n",
    "# Get unique investment types\n",
    "investment_types = data['Price Category'].unique()\n",
    "\n",
    "# Create subplots and figure\n",
    "fig, axes = plt.subplots(len(investment_types), 1, figsize=(10, 10))\n",
    "\n",
    "# Iterate over investment types\n",
    "for i, investment_type in enumerate(investment_types):\n",
    "    df_filtered = data[data['Price Category'] == investment_type]  # Filter data\n",
    "\n",
    "    sns.histplot(\n",
    "        data=df_filtered,\n",
    "        x=\"Price per m2\",\n",
    "        hue=\"Region\",\n",
    "        kde=True,\n",
    "        common_bins=True,\n",
    "        ax=axes[i]\n",
    "    )\n",
    "\n",
    "    # Subplot titles\n",
    "    axes[i].set_title(investment_type)\n",
    "\n",
    "# Shared title for all subplots\n",
    "plt.suptitle(\"Price Distribution by Investment Type and Region\")\n",
    "\n",
    "# Adjust spacing and show\n",
    "plt.tight_layout()\n",
    "plt.show()\n"
   ]
  },
  {
   "cell_type": "code",
   "execution_count": null,
   "metadata": {},
   "outputs": [],
   "source": [
    "# Select only numeric columns for the heatmap\n",
    "numeric_data = data.select_dtypes(include='number')\n",
    "\n",
    "# Calculate the correlation matrix\n",
    "correlation_matrix = numeric_data.corr()\n",
    "\n",
    "# Create a heatmap\n",
    "plt.figure(figsize=(12, 10))\n",
    "sns.heatmap(correlation_matrix, annot=True, cmap='coolwarm', fmt=\".2f\")\n",
    "plt.title('Correlation Heatmap of Numeric Features')\n",
    "plt.show()"
   ]
  },
  {
   "cell_type": "code",
   "execution_count": 37,
   "metadata": {},
   "outputs": [
    {
     "name": "stderr",
     "output_type": "stream",
     "text": [
      "C:\\Users\\phili\\AppData\\Local\\Temp\\ipykernel_1420\\4169504409.py:5: FutureWarning: The default of observed=False is deprecated and will be changed to True in a future version of pandas. Pass observed=False to retain current behavior or observed=True to adopt the future default and silence this warning.\n",
      "  grouped_data = data_apartment.groupby([\"Price Category\", \"Region\"]).agg({\n"
     ]
    },
    {
     "name": "stdout",
     "output_type": "stream",
     "text": [
      "                                           Price            Habitable_Surface  \\\n",
      "                                            mean     median              mean   \n",
      "Price Category            Region                                                \n",
      "Value-driven investment   Brussels  2.581289e+05   229000.0        132.268608   \n",
      "                          Flanders  2.408016e+05   209000.0        126.097314   \n",
      "                          Wallonia  1.870331e+05   170000.0        150.425341   \n",
      "Growth opportunities      Brussels  3.597393e+05   299000.0        101.009492   \n",
      "                          Flanders  3.410485e+05   307100.0         99.186936   \n",
      "                          Wallonia  3.017206e+05   265000.0         92.984625   \n",
      "Established neighborhoods Brussels  7.663215e+05   559000.0        119.780063   \n",
      "                          Flanders  6.397940e+05   575000.0         94.305868   \n",
      "                          Wallonia  4.081731e+05   299000.0         72.921569   \n",
      "Premium properties        Brussels  2.578364e+06  3297000.0        234.636364   \n",
      "                          Flanders  1.483204e+06  1197500.0         96.928571   \n",
      "                          Wallonia  3.168750e+06  2812500.0             170.5   \n",
      "\n",
      "                                          Bedroom_Count         \n",
      "                                   median          mean median  \n",
      "Price Category            Region                                \n",
      "Value-driven investment   Brussels  101.0      2.331715    2.0  \n",
      "                          Flanders  100.0      2.278340    2.0  \n",
      "                          Wallonia   90.0      2.107866    2.0  \n",
      "Growth opportunities      Brussels   90.0      1.924065    2.0  \n",
      "                          Flanders   92.0      1.966451    2.0  \n",
      "                          Wallonia   86.0      1.872694    2.0  \n",
      "Established neighborhoods Brussels  100.0      1.859177    2.0  \n",
      "                          Flanders   87.0      1.912609    2.0  \n",
      "                          Wallonia   56.0      1.411765    1.0  \n",
      "Premium properties        Brussels  305.0      2.636364    3.0  \n",
      "                          Flanders   89.0      2.253247    2.0  \n",
      "                          Wallonia  179.0      3.000000    3.0  \n"
     ]
    }
   ],
   "source": [
    "# Filter for apartments only\n",
    "data_apartment = data[data['Type'] == \"APARTMENT\"]\n",
    "\n",
    "# Group by Price Category and Region, then calculate mean and median\n",
    "grouped_data = data_apartment.groupby([\"Price Category\", \"Region\"]).agg({\n",
    "    \"Price\": [\"mean\", \"median\"],\n",
    "    \"Habitable_Surface\": [\"mean\", \"median\"],\n",
    "    \"Bedroom_Count\": [\"mean\", \"median\"],\n",
    "})\n",
    "\n",
    "print(grouped_data)\n",
    "\n",
    "# Filter for apartments only\n",
    "data_apartment = data[data['Type'] == \"HOUSE\"]\n",
    "\n",
    "# Group by Price Category and Region, then calculate mean and median\n",
    "grouped_data = data_apartment.groupby([\"Price Category\", \"Region\"]).agg({\n",
    "    \"Price\": [\"mean\", \"median\"],\n",
    "    \"Habitable_Surface\": [\"mean\", \"median\"],\n",
    "    \"Bedroom_Count\": [\"mean\", \"median\"],\n",
    "})\n",
    "\n",
    "print(grouped_data)"
   ]
  },
  {
   "cell_type": "code",
   "execution_count": null,
   "metadata": {},
   "outputs": [],
   "source": []
  }
 ],
 "metadata": {
  "kernelspec": {
   "display_name": "base",
   "language": "python",
   "name": "python3"
  },
  "language_info": {
   "codemirror_mode": {
    "name": "ipython",
    "version": 3
   },
   "file_extension": ".py",
   "mimetype": "text/x-python",
   "name": "python",
   "nbconvert_exporter": "python",
   "pygments_lexer": "ipython3",
   "version": "3.12.1"
  }
 },
 "nbformat": 4,
 "nbformat_minor": 2
}
