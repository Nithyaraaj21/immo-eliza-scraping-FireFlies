{
 "cells": [
  {
   "cell_type": "code",
   "execution_count": 10,
   "metadata": {},
   "outputs": [],
   "source": [
    "import pandas as pd\n",
    "import os\n",
    "import re\n",
    "\n",
    "# Load the data from the correct directory\n",
    "os.chdir(r\"C:\\Users\\phili\\Projects\\immo-eliza-scraping-FireFlies\\Data\\Raw\") # raw strings for syntax / input box for external user?\n",
    "data = pd.read_csv(\"immoweb_raw.csv\")\n",
    "\n",
    "''' No blank spaces, no empty values, no wrongly encoded values (e.g. a text value in the price column)'''\n",
    "# No blank spaces using strip() for strings data only\n",
    "types = data.dtypes\n",
    "for col in data.columns:\n",
    "    if types[col] == 'string': # Apply str.strip() only to string columns\n",
    "        data[col] = data[col].str.strip()\n",
    "# Fill missing values with \"None\"\n",
    "data = data.fillna(\"None\")\n",
    "# Filter out rows where the 'Price' column contains 'None' (2.744)\n",
    "data = data[data['Price'] != 'None']\n",
    "\n",
    "# Save the cleaned data\n",
    "os.chdir(r\"C:\\Users\\phili\\Projects\\immo-eliza-scraping-FireFlies\\Data\\Raw\\Clean\")\n",
    "data.to_csv(\"immoweb_cleaned.csv\", index=False)"
   ]
  },
  {
   "cell_type": "code",
   "execution_count": null,
   "metadata": {},
   "outputs": [],
   "source": [
    "# Exclude the first column from duplicate check\n",
    "columns_to_check = data.columns[1:]\n",
    "\n",
    "# Find duplicates in rows except the first column\n",
    "duplicates = data.duplicated(subset=columns_to_check, keep='first')\n",
    "\n",
    "# Filter the dataset to show only the duplicated rows (excluding the first occurrence)\n",
    "duplicated_rows = data[duplicates]\n",
    "duplicated_rows_count = duplicated_rows.count()\n",
    "print(\"Number of duplicated rows found:\", duplicated_rows_count)\n",
    "\n",
    "# Remove duplicate rows based on specified columns\n",
    "data = data.drop_duplicates(subset=columns_to_check, keep='first')\n",
    "\n",
    "# Display the cleaned dataset\n",
    "print(\"Cleaned Dataset (excluding duplicate rows):\")\n",
    "data.count()"
   ]
  },
  {
   "cell_type": "code",
   "execution_count": null,
   "metadata": {},
   "outputs": [],
   "source": [
    "filled_rows = data[data.notna().all(axis=1)]\n",
    "\n",
    "# Print the rows\n",
    "print(filled_rows)\n",
    "filled_rows.count()"
   ]
  },
  {
   "cell_type": "code",
   "execution_count": null,
   "metadata": {},
   "outputs": [],
   "source": [
    "data = data.drop(['Closed Box Parking Spaces'], axis=1)"
   ]
  },
  {
   "cell_type": "markdown",
   "metadata": {},
   "source": [
    "Data Analysis\n"
   ]
  },
  {
   "cell_type": "code",
   "execution_count": null,
   "metadata": {},
   "outputs": [],
   "source": [
    "\n",
    "# Save the cleaned dataset\n",
    "data.to_csv(\"immoweb_cleaned1.csv\", index=False)\n",
    "data"
   ]
  },
  {
   "cell_type": "markdown",
   "metadata": {},
   "source": [
    "Data Analysis\n"
   ]
  },
  {
   "cell_type": "code",
   "execution_count": null,
   "metadata": {},
   "outputs": [],
   "source": [
    "print(data.describe())  # Summary statistics\n",
    "print(data.info())      # Information about the dataset"
   ]
  },
  {
   "cell_type": "markdown",
   "metadata": {},
   "source": [
    "Convert to int"
   ]
  },
  {
   "cell_type": "code",
   "execution_count": null,
   "metadata": {},
   "outputs": [],
   "source": [
    "columns_to_convert = ['Price','Construction Year', 'Bedroom Count', 'Terrace Surface','Garden Surface', 'Land Surface', 'Facade Count']\n",
    "\n",
    "# Convert specified columns to numeric, coercing errors to NaN\n",
    "data[columns_to_convert] = data[columns_to_convert].apply(pd.to_numeric, errors='coerce')\n",
    "\n",
    "\n",
    "placeholder_value = 0  \n",
    "data['Facade Count'] = data['Facade Count'].fillna(placeholder_value)\n",
    "\n",
    "# Convert columns to integer or float as needed\n",
    "data['Construction Year'] = data['Construction Year'].astype(float)\n",
    "data['Bedroom Count'] = data['Bedroom Count'].astype(int)\n",
    "\n"
   ]
  },
  {
   "cell_type": "code",
   "execution_count": null,
   "metadata": {},
   "outputs": [],
   "source": [
    "data['Facade Count']"
   ]
  },
  {
   "cell_type": "code",
   "execution_count": null,
   "metadata": {},
   "outputs": [],
   "source": [
    "print(data.info())      # Information about the dataset\n"
   ]
  },
  {
   "cell_type": "code",
   "execution_count": null,
   "metadata": {},
   "outputs": [],
   "source": [
    "import matplotlib.pyplot as plt\n",
    "import seaborn as sns\n",
    "\n",
    "sns.pairplot(data[['Price', 'Bedroom_Count', 'Land_Surface', 'Habitable_Surface']])\n",
    "plt.show()\n",
    "\n",
    "# Example: Boxplot to visualize the distribution of 'Price' for different 'Type' of properties\n",
    "plt.figure(figsize=(10, 6))\n",
    "sns.boxplot(x='Type', y='Price', data=data)\n",
    "plt.xticks(rotation=45)\n",
    "plt.show()"
   ]
  },
  {
   "cell_type": "code",
   "execution_count": null,
   "metadata": {},
   "outputs": [],
   "source": [
    "# Select only numeric columns for the heatmap\n",
    "numeric_data = data.select_dtypes(include='number')\n",
    "\n",
    "# Calculate the correlation matrix\n",
    "correlation_matrix = numeric_data.corr()\n",
    "\n",
    "# Create a heatmap\n",
    "plt.figure(figsize=(12, 10))\n",
    "sns.heatmap(correlation_matrix, annot=True, cmap='coolwarm', fmt=\".2f\")\n",
    "plt.title('Correlation Heatmap of Numeric Features')\n",
    "plt.show()"
   ]
  }
 ],
 "metadata": {
  "kernelspec": {
   "display_name": "base",
   "language": "python",
   "name": "python3"
  },
  "language_info": {
   "codemirror_mode": {
    "name": "ipython",
    "version": 3
   },
   "file_extension": ".py",
   "mimetype": "text/x-python",
   "name": "python",
   "nbconvert_exporter": "python",
   "pygments_lexer": "ipython3",
   "version": "3.12.1"
  }
 },
 "nbformat": 4,
 "nbformat_minor": 2
}
